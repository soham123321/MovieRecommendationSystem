{
 "cells": [
  {
   "cell_type": "markdown",
   "id": "00a30444-576f-49fb-bf02-bea8e77d1f79",
   "metadata": {
    "tags": []
   },
   "source": [
    "# Setup"
   ]
  },
  {
   "cell_type": "code",
   "execution_count": 1,
   "id": "1df81b7a-b77d-4b7e-9ec7-9fd347dc662c",
   "metadata": {
    "tags": []
   },
   "outputs": [
    {
     "name": "stdout",
     "output_type": "stream",
     "text": [
      "Requirement already satisfied: kaggle in /opt/conda/lib/python3.9/site-packages (1.5.13)\n",
      "Requirement already satisfied: certifi in /opt/conda/lib/python3.9/site-packages (from kaggle) (2021.5.30)\n",
      "Requirement already satisfied: urllib3 in /opt/conda/lib/python3.9/site-packages (from kaggle) (1.26.6)\n",
      "Requirement already satisfied: tqdm in /opt/conda/lib/python3.9/site-packages (from kaggle) (4.62.2)\n",
      "Requirement already satisfied: python-dateutil in /opt/conda/lib/python3.9/site-packages (from kaggle) (2.8.2)\n",
      "Requirement already satisfied: python-slugify in /opt/conda/lib/python3.9/site-packages (from kaggle) (8.0.1)\n",
      "Requirement already satisfied: six>=1.10 in /opt/conda/lib/python3.9/site-packages (from kaggle) (1.16.0)\n",
      "Requirement already satisfied: requests in /opt/conda/lib/python3.9/site-packages (from kaggle) (2.26.0)\n",
      "Requirement already satisfied: text-unidecode>=1.3 in /opt/conda/lib/python3.9/site-packages (from python-slugify->kaggle) (1.3)\n",
      "Requirement already satisfied: charset-normalizer~=2.0.0 in /opt/conda/lib/python3.9/site-packages (from requests->kaggle) (2.0.0)\n",
      "Requirement already satisfied: idna<4,>=2.5 in /opt/conda/lib/python3.9/site-packages (from requests->kaggle) (3.1)\n",
      "Note: you may need to restart the kernel to use updated packages.\n"
     ]
    }
   ],
   "source": [
    "pip install kaggle"
   ]
  },
  {
   "cell_type": "code",
   "execution_count": 2,
   "id": "7e7ecf3d-995f-4fa6-926d-37da0702fbcb",
   "metadata": {},
   "outputs": [
    {
     "name": "stderr",
     "output_type": "stream",
     "text": [
      "Warning: Ignoring non-Spark config property: hive.metastore.uris\n",
      "WARNING: An illegal reflective access operation has occurred\n",
      "WARNING: Illegal reflective access by org.apache.spark.unsafe.Platform (file:/usr/local/spark-3.1.2-bin-hadoop3.2/jars/spark-unsafe_2.12-3.1.2.jar) to constructor java.nio.DirectByteBuffer(long,int)\n",
      "WARNING: Please consider reporting this to the maintainers of org.apache.spark.unsafe.Platform\n",
      "WARNING: Use --illegal-access=warn to enable warnings of further illegal reflective access operations\n",
      "WARNING: All illegal access operations will be denied in a future release\n",
      "23/06/24 23:52:32 WARN NativeCodeLoader: Unable to load native-hadoop library for your platform... using builtin-java classes where applicable\n",
      "Using Spark's default log4j profile: org/apache/spark/log4j-defaults.properties\n",
      "Setting default log level to \"WARN\".\n",
      "To adjust logging level use sc.setLogLevel(newLevel). For SparkR, use setLogLevel(newLevel).\n"
     ]
    }
   ],
   "source": [
    "import pyspark\n",
    "from pyspark.sql import SparkSession\n",
    "\n",
    "# Create Spark Session with Hive enabled\n",
    "spark = SparkSession\\\n",
    "        .builder\\\n",
    "        .master(\"local\")\\\n",
    "        .appName(\"jupyter-spark\")\\\n",
    "        .config(\"hive.metastore.uris\", \"thrift://hive-metastore:9083\")\\\n",
    "        .config(\"spark.sql.warehouse.dir\",\"/users/hive/warehouse\")\\\n",
    "        .config(\"spark.hadoop.fs.s3a.fast.upload\", True) \\\n",
    "        .config(\"spark.hadoop.fs.s3a.path.style.access\", True) \\\n",
    "        .config(\"spark.hadoop.fs.s3a.impl\", \"org.apache.hadoop.fs.s3a.S3AFileSystem\") \\\n",
    "        .enableHiveSupport()\\\n",
    "        .getOrCreate()\n",
    "\n",
    "sc = spark.sparkContext\n",
    "sc.setLogLevel(\"ERROR\")"
   ]
  },
  {
   "cell_type": "code",
   "execution_count": 3,
   "id": "50ea4fa5-eb1c-487a-b2d0-f0986e566c06",
   "metadata": {},
   "outputs": [],
   "source": [
    "# import opendatasets as od\n",
    "# od.download(\"https://www.kaggle.com/datasets/grouplens/movielens-20m-dataset\")"
   ]
  },
  {
   "cell_type": "code",
   "execution_count": 4,
   "id": "f88ad468-94aa-4792-a1d4-76d6539470ca",
   "metadata": {},
   "outputs": [
    {
     "name": "stdout",
     "output_type": "stream",
     "text": [
      "mkdir: cannot create directory ‘/home/jovyan/.kaggle’: File exists\n"
     ]
    }
   ],
   "source": [
    "!mkdir ~/.kaggle"
   ]
  },
  {
   "cell_type": "code",
   "execution_count": 5,
   "id": "72628c5b-b97d-4d28-b7b7-501a70a07003",
   "metadata": {},
   "outputs": [
    {
     "name": "stdout",
     "output_type": "stream",
     "text": [
      "kaggle.json\n"
     ]
    }
   ],
   "source": [
    "!ls ~/.kaggle"
   ]
  },
  {
   "cell_type": "code",
   "execution_count": 6,
   "id": "48caf316-79d8-4a9f-ba98-fd5c46c83373",
   "metadata": {},
   "outputs": [
    {
     "name": "stdout",
     "output_type": "stream",
     "text": [
      "Warning: Your Kaggle API key is readable by other users on this system! To fix this, you can run 'chmod 600 /home/jovyan/.kaggle/kaggle.json'\n"
     ]
    }
   ],
   "source": [
    "import os\n",
    "import kaggle\n",
    "kaggle.api.dataset_download_files('grouplens/movielens-20m-dataset', path='movielens', unzip=True)"
   ]
  },
  {
   "cell_type": "markdown",
   "id": "5efec02b-2bb8-4b61-8f0a-725b3b2bcecc",
   "metadata": {
    "tags": []
   },
   "source": [
    "# Reading Data Frames"
   ]
  },
  {
   "cell_type": "code",
   "execution_count": 7,
   "id": "9e2a50b6-b534-4ce8-b610-6a4199957db1",
   "metadata": {},
   "outputs": [
    {
     "name": "stderr",
     "output_type": "stream",
     "text": [
      "                                                                                \r"
     ]
    }
   ],
   "source": [
    "from pyspark.sql.functions import split, col\n",
    "from pyspark.sql.functions import to_timestamp\n",
    "from pyspark.sql import functions as f\n",
    "movie = spark.read.option(\"inferSchema\", \"true\").option(\"header\",\"true\").csv(\"./movielens/movie.csv\")\\\n",
    "        .select(\"movieId\", \"title\", split(col(\"genres\"), \"\\\\|\").alias(\"genres\"))\n",
    "\n",
    "rating = spark.read.option(\"inferSchema\", \"true\").option(\"header\",\"true\").csv(\"./movielens/rating.csv\")\\\n",
    "         .withColumn(\"timestamp\",to_timestamp(\"timestamp\"))\n",
    "\n",
    "link = spark.read.option(\"inferSchema\", \"true\").option(\"header\",\"true\").csv(\"./movielens/link.csv\")\n",
    "tag = spark.read.option(\"inferSchema\", \"true\").option(\"header\",\"true\").csv(\"./movielens/tag.csv\")\n",
    "\n",
    "genome_tags = spark.read.option(\"inferSchema\", \"true\").option(\"header\",\"true\").csv(\"./movielens/genome_tags.csv\")\n",
    "genome_score = spark.read.option(\"inferSchema\", \"true\").option(\"header\",\"true\").csv(\"./movielens/genome_scores.csv\")"
   ]
  },
  {
   "cell_type": "markdown",
   "id": "22a04541-13c7-46ad-94e6-c5cadabbb000",
   "metadata": {},
   "source": [
    "## Creating the dataframe for algorithm"
   ]
  },
  {
   "cell_type": "code",
   "execution_count": 8,
   "id": "be800f54-723c-4b61-8a57-3d5d65376213",
   "metadata": {},
   "outputs": [],
   "source": [
    "movie_rating = rating.groupBy(\"movieId\").agg(f.mean(\"rating\").alias(\"avg_rating\"), f.count(\"movieId\").alias(\"number_of_votes\"))                "
   ]
  },
  {
   "cell_type": "code",
   "execution_count": 9,
   "id": "09fcbc97-ea12-4ecb-9492-0432fc2df168",
   "metadata": {},
   "outputs": [],
   "source": [
    "relevance_scores = genome_score.join(genome_tags, genome_score[\"tagId\"] == genome_tags[\"tagId\"])\\\n",
    "                    .select(genome_score.movieId,genome_score.tagId,genome_score.relevance, genome_tags.tag)"
   ]
  },
  {
   "cell_type": "code",
   "execution_count": 10,
   "id": "42b6a0e9-5a46-42b5-b300-f69c4bf03f91",
   "metadata": {},
   "outputs": [
    {
     "name": "stdout",
     "output_type": "stream",
     "text": [
      "+-------+-----+---------+------------+\n",
      "|movieId|tagId|relevance|         tag|\n",
      "+-------+-----+---------+------------+\n",
      "|      1|    1|    0.025|         007|\n",
      "|      1|    2|    0.025|007 (series)|\n",
      "|      1|    3|  0.05775|18th century|\n",
      "|      1|    4|  0.09675|       1920s|\n",
      "|      1|    5|  0.14675|       1930s|\n",
      "+-------+-----+---------+------------+\n",
      "only showing top 5 rows\n",
      "\n"
     ]
    }
   ],
   "source": [
    "relevance_scores.show(5)"
   ]
  },
  {
   "cell_type": "code",
   "execution_count": 11,
   "id": "85722f8a-2988-4f48-934a-2dfd3ad9cee7",
   "metadata": {
    "tags": []
   },
   "outputs": [],
   "source": [
    "recommendation_df = movie.join(movie_rating, movie[\"movieId\"] == movie_rating[\"movieId\"])\\\n",
    "                    .join(tag, movie[\"movieId\"] == tag[\"movieId\"])\\\n",
    "                    .select(movie.movieId, movie.title,movie.genres, movie_rating.avg_rating,\n",
    "                            movie_rating.number_of_votes, tag.tag)"
   ]
  },
  {
   "cell_type": "code",
   "execution_count": 12,
   "id": "644aff58-c75a-48ad-873d-ca04301a9123",
   "metadata": {},
   "outputs": [
    {
     "name": "stderr",
     "output_type": "stream",
     "text": [
      "[Stage 16:>                                                         (0 + 1) / 1]\r"
     ]
    },
    {
     "name": "stdout",
     "output_type": "stream",
     "text": [
      "+-------+--------------------------------+--------+------------------+---------------+---------------------------+\n",
      "|movieId|title                           |genres  |avg_rating        |number_of_votes|tag                        |\n",
      "+-------+--------------------------------+--------+------------------+---------------+---------------------------+\n",
      "|148    |Awfully Big Adventure, An (1995)|[Drama] |2.8893557422969187|357            |Nudity (Topless - Notable) |\n",
      "|148    |Awfully Big Adventure, An (1995)|[Drama] |2.8893557422969187|357            |nudity (topless)           |\n",
      "|471    |Hudsucker Proxy, The (1994)     |[Comedy]|3.6641817536386228|11268          |funny                      |\n",
      "|471    |Hudsucker Proxy, The (1994)     |[Comedy]|3.6641817536386228|11268          |Capra-esque                |\n",
      "|471    |Hudsucker Proxy, The (1994)     |[Comedy]|3.6641817536386228|11268          |1950s                      |\n",
      "|471    |Hudsucker Proxy, The (1994)     |[Comedy]|3.6641817536386228|11268          |Business is the antagonist |\n",
      "|471    |Hudsucker Proxy, The (1994)     |[Comedy]|3.6641817536386228|11268          |BOARDROOM JUNGLE           |\n",
      "|471    |Hudsucker Proxy, The (1994)     |[Comedy]|3.6641817536386228|11268          |easygoing                  |\n",
      "|471    |Hudsucker Proxy, The (1994)     |[Comedy]|3.6641817536386228|11268          |FIGHTING THE SYSTEM        |\n",
      "|471    |Hudsucker Proxy, The (1994)     |[Comedy]|3.6641817536386228|11268          |madcap                     |\n",
      "|471    |Hudsucker Proxy, The (1994)     |[Comedy]|3.6641817536386228|11268          |quirky                     |\n",
      "|471    |Hudsucker Proxy, The (1994)     |[Comedy]|3.6641817536386228|11268          |RAGS TO RICHES             |\n",
      "|471    |Hudsucker Proxy, The (1994)     |[Comedy]|3.6641817536386228|11268          |satirical                  |\n",
      "|471    |Hudsucker Proxy, The (1994)     |[Comedy]|3.6641817536386228|11268          |SUCCESS IS THE BEST REVENGE|\n",
      "|471    |Hudsucker Proxy, The (1994)     |[Comedy]|3.6641817536386228|11268          |UNDERDOGS                  |\n",
      "|471    |Hudsucker Proxy, The (1994)     |[Comedy]|3.6641817536386228|11268          |urbane                     |\n",
      "|471    |Hudsucker Proxy, The (1994)     |[Comedy]|3.6641817536386228|11268          |whimsical                  |\n",
      "|471    |Hudsucker Proxy, The (1994)     |[Comedy]|3.6641817536386228|11268          |witty                      |\n",
      "|471    |Hudsucker Proxy, The (1994)     |[Comedy]|3.6641817536386228|11268          |coen bros                  |\n",
      "|471    |Hudsucker Proxy, The (1994)     |[Comedy]|3.6641817536386228|11268          |Coen Brothers              |\n",
      "+-------+--------------------------------+--------+------------------+---------------+---------------------------+\n",
      "only showing top 20 rows\n",
      "\n"
     ]
    },
    {
     "name": "stderr",
     "output_type": "stream",
     "text": [
      "                                                                                \r"
     ]
    }
   ],
   "source": [
    "recommendation_df.show(20, truncate = False)"
   ]
  }
 ],
 "metadata": {
  "kernelspec": {
   "display_name": "Python 3 (ipykernel)",
   "language": "python",
   "name": "python3"
  },
  "language_info": {
   "codemirror_mode": {
    "name": "ipython",
    "version": 3
   },
   "file_extension": ".py",
   "mimetype": "text/x-python",
   "name": "python",
   "nbconvert_exporter": "python",
   "pygments_lexer": "ipython3",
   "version": "3.9.6"
  }
 },
 "nbformat": 4,
 "nbformat_minor": 5
}
