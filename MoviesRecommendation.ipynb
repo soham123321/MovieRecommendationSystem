{
 "cells": [
  {
   "cell_type": "markdown",
   "id": "27d7b481-9f00-4516-a580-09259bca33fa",
   "metadata": {
    "jp-MarkdownHeadingCollapsed": true,
    "tags": []
   },
   "source": [
    "# Load the dataset"
   ]
  },
  {
   "cell_type": "code",
   "execution_count": 1,
   "id": "a05ad2ab-6a9a-4f13-b38f-50435352ab5e",
   "metadata": {},
   "outputs": [
    {
     "name": "stdout",
     "output_type": "stream",
     "text": [
      "Collecting kaggle\n",
      "  Downloading kaggle-1.5.13.tar.gz (63 kB)\n",
      "\u001b[K     |████████████████████████████████| 63 kB 709 kB/s eta 0:00:01\n",
      "\u001b[?25hRequirement already satisfied: six>=1.10 in /opt/conda/lib/python3.9/site-packages (from kaggle) (1.16.0)\n",
      "Requirement already satisfied: certifi in /opt/conda/lib/python3.9/site-packages (from kaggle) (2021.5.30)\n",
      "Requirement already satisfied: python-dateutil in /opt/conda/lib/python3.9/site-packages (from kaggle) (2.8.2)\n",
      "Requirement already satisfied: requests in /opt/conda/lib/python3.9/site-packages (from kaggle) (2.26.0)\n",
      "Requirement already satisfied: tqdm in /opt/conda/lib/python3.9/site-packages (from kaggle) (4.62.2)\n",
      "Collecting python-slugify\n",
      "  Downloading python_slugify-8.0.1-py2.py3-none-any.whl (9.7 kB)\n",
      "Requirement already satisfied: urllib3 in /opt/conda/lib/python3.9/site-packages (from kaggle) (1.26.6)\n",
      "Collecting text-unidecode>=1.3\n",
      "  Downloading text_unidecode-1.3-py2.py3-none-any.whl (78 kB)\n",
      "\u001b[K     |████████████████████████████████| 78 kB 3.6 MB/s eta 0:00:011\n",
      "\u001b[?25hRequirement already satisfied: charset-normalizer~=2.0.0 in /opt/conda/lib/python3.9/site-packages (from requests->kaggle) (2.0.0)\n",
      "Requirement already satisfied: idna<4,>=2.5 in /opt/conda/lib/python3.9/site-packages (from requests->kaggle) (3.1)\n",
      "Building wheels for collected packages: kaggle\n",
      "  Building wheel for kaggle (setup.py) ... \u001b[?25ldone\n",
      "\u001b[?25h  Created wheel for kaggle: filename=kaggle-1.5.13-py3-none-any.whl size=77734 sha256=82a2f8e7a8538fc3ae19feb45a9ae8c7420f1e46a3b53c28a4d88db58d23eb6e\n",
      "  Stored in directory: /home/jovyan/.cache/pip/wheels/9c/45/15/6d6d116cd2539fb8f450d64b0aee4a480e5366bb11b42ac763\n",
      "Successfully built kaggle\n",
      "Installing collected packages: text-unidecode, python-slugify, kaggle\n",
      "Successfully installed kaggle-1.5.13 python-slugify-8.0.1 text-unidecode-1.3\n",
      "Note: you may need to restart the kernel to use updated packages.\n"
     ]
    }
   ],
   "source": [
    "pip install kaggle"
   ]
  },
  {
   "cell_type": "code",
   "execution_count": 19,
   "id": "867e49c7-2aa0-455d-b487-c3fbe7230f57",
   "metadata": {},
   "outputs": [],
   "source": [
    "!mkdir ~/.kaggle"
   ]
  },
  {
   "cell_type": "code",
   "execution_count": 20,
   "id": "cae2ca9d-d23f-4c58-89d9-2bcb1588941d",
   "metadata": {},
   "outputs": [
    {
     "name": "stdout",
     "output_type": "stream",
     "text": [
      "kaggle.json\n"
     ]
    }
   ],
   "source": [
    "!ls ~/.kaggle"
   ]
  },
  {
   "cell_type": "code",
   "execution_count": 10,
   "id": "0c8ee30a-013a-413b-97e5-c7bd73b6cdd4",
   "metadata": {},
   "outputs": [
    {
     "name": "stdout",
     "output_type": "stream",
     "text": [
      "Warning: Your Kaggle API key is readable by other users on this system! To fix this, you can run 'chmod 600 /home/jovyan/.kaggle/kaggle.json'\n"
     ]
    }
   ],
   "source": [
    "import os\n",
    "import kaggle\n",
    "kaggle.api.dataset_download_files('ahsanaseer/top-rated-tmdb-movies-10k', path='movies', unzip=True)"
   ]
  },
  {
   "cell_type": "code",
   "execution_count": 1,
   "id": "4889a037-06b4-49a4-9e0f-290146481344",
   "metadata": {},
   "outputs": [],
   "source": [
    "import pandas as pd\n",
    "movies=pd.read_csv(\"./movies/top10K-TMDB-movies.csv\")\n",
    "movies=movies[['id', 'title', 'overview', 'genre']]\n",
    "movies['tags'] = movies['overview']+movies['genre']\n",
    "recommendation_movie  = movies.drop(columns=['overview', 'genre'])"
   ]
  },
  {
   "cell_type": "markdown",
   "id": "19de9ec3-e339-4329-8d2d-531e35a0ba91",
   "metadata": {
    "tags": []
   },
   "source": [
    "# Model Creation"
   ]
  },
  {
   "cell_type": "markdown",
   "id": "a492abda-98bc-456f-bae2-1adef972b4c1",
   "metadata": {
    "tags": []
   },
   "source": [
    "## Single Value Decomposition"
   ]
  },
  {
   "cell_type": "code",
   "execution_count": 149,
   "id": "09ecd5e8-b036-4b14-9b74-87990a1d118f",
   "metadata": {},
   "outputs": [],
   "source": [
    "import pandas as pd\n",
    "import numpy as np\n",
    "from scipy.sparse.linalg import svds\n",
    "movies=pd.read_csv(\"./movies/top10K-TMDB-movies.csv\")\n",
    "movies=movies[['id', 'title', 'overview', 'genre']]\n",
    "\n",
    "recommendation_movie = movies\n",
    "recommendation_movie['tags'] = movies['overview']\n",
    "recommendation_movie = recommendation_movie.drop(columns = ['overview'])\n",
    "\n",
    "recommendation_movie[\"tags\"] = recommendation_movie[\"tags\"].fillna('')\n",
    "recommendation_movie[\"genre\"] = recommendation_movie[\"genre\"].fillna('')\n",
    "recommendation_movie[\"tags\"] = recommendation_movie[\"tags\"].apply(lambda x: x.lower())\n",
    "recommendation_movie[\"genre\"] = recommendation_movie[\"genre\"].apply(lambda x: x.lower())"
   ]
  },
  {
   "cell_type": "code",
   "execution_count": 363,
   "id": "dc430d84-3041-4dd1-ba3d-04b231a157ee",
   "metadata": {},
   "outputs": [],
   "source": [
    "from sklearn.preprocessing import MultiLabelBinarizer\n",
    "from scipy.sparse import csr_matrix\n",
    "from sklearn.feature_extraction.text import TfidfVectorizer\n",
    "vectorizer = TfidfVectorizer(stop_words='english',token_pattern=r'\\b\\w+\\b', ngram_range=(1, 2),sublinear_tf=True,smooth_idf=True)\n",
    "tag_matrix = vectorizer.fit_transform(recommendation_movie['tags'])\n",
    "genre_vectorizer = TfidfVectorizer(stop_words='english',token_pattern=r'\\b\\w+\\b', ngram_range=(1, 2),sublinear_tf=True,smooth_idf=True)\n",
    "genre_matrix = genre_vectorizer.fit_transform(recommendation_movie['genre'])"
   ]
  },
  {
   "cell_type": "code",
   "execution_count": 364,
   "id": "9e8444f0-6fac-4fb1-b9ff-dfebb939b25b",
   "metadata": {},
   "outputs": [],
   "source": [
    "from scipy.sparse import hstack\n",
    "combined_matrix = hstack([tag_matrix, genre_matrix])"
   ]
  },
  {
   "cell_type": "code",
   "execution_count": 365,
   "id": "06f8770d-2378-44dd-80f9-c048c77525dc",
   "metadata": {},
   "outputs": [],
   "source": [
    "from sklearn.metrics.pairwise import cosine_similarity\n",
    "num_latent_factors = 400\n",
    "U, sigma, Vt = svds(combined_matrix, k=num_latent_factors)\n",
    "similarity_matrix = cosine_similarity(U)"
   ]
  },
  {
   "cell_type": "code",
   "execution_count": 366,
   "id": "386fba0c-0e5a-4f81-9103-815ceb060dcb",
   "metadata": {},
   "outputs": [],
   "source": [
    "def recommend_movies_svds(movie_title):\n",
    "    movie_index = movies[movies['title'] == movie_title].index[0]\n",
    "    movie_score = similarity_matrix[movie_index].reshape(1, -1)\n",
    "    similar_indices = np.argsort(movie_score)[-1,-6:-1][::-1]\n",
    "    recommended_movies = movies.loc[similar_indices, 'title']\n",
    "    return print(recommended_movies)"
   ]
  },
  {
   "cell_type": "code",
   "execution_count": 368,
   "id": "a7998da4-1d17-4592-bff3-491b67deb56f",
   "metadata": {},
   "outputs": [
    {
     "name": "stdout",
     "output_type": "stream",
     "text": [
      "825             Batman Begins\n",
      "688     The Dark Knight Rises\n",
      "8361         Reasonable Doubt\n",
      "808                      Rush\n",
      "9533                   Edison\n",
      "Name: title, dtype: object\n"
     ]
    }
   ],
   "source": [
    "recommend_movies_svds(\"The Dark Knight\")"
   ]
  },
  {
   "cell_type": "code",
   "execution_count": 369,
   "id": "0daedfcc-92be-4650-a5fd-c03b0398a5af",
   "metadata": {},
   "outputs": [],
   "source": [
    "import pickle\n",
    "pickle.dump(recommendation_movie,open(\"movies.pkl\",\"wb\"))\n",
    "pickle.dump(similarity_matrix, open(\"similarity.pkl\", \"wb\"))"
   ]
  },
  {
   "cell_type": "markdown",
   "id": "6b653d25-0005-4452-b338-b240295fccd7",
   "metadata": {
    "tags": []
   },
   "source": [
    "## Bag of Words"
   ]
  },
  {
   "cell_type": "code",
   "execution_count": 2,
   "id": "1dfa7930-97d1-4302-b879-5c00826c5e76",
   "metadata": {},
   "outputs": [],
   "source": [
    "from sklearn.feature_extraction.text import CountVectorizer\n",
    "cv=CountVectorizer(max_features=10000, stop_words='english')"
   ]
  },
  {
   "cell_type": "code",
   "execution_count": 3,
   "id": "cf699503-3a23-4deb-8849-47f708326a44",
   "metadata": {},
   "outputs": [],
   "source": [
    "model =cv.fit_transform(recommendation_movie['tags'].values.astype('U')).toarray()"
   ]
  },
  {
   "cell_type": "code",
   "execution_count": 4,
   "id": "269aca9b-0566-4fa7-a9a2-e97e3b5aa1c5",
   "metadata": {},
   "outputs": [],
   "source": [
    "from sklearn.metrics.pairwise import cosine_similarity\n",
    "similarity=cosine_similarity(model)"
   ]
  },
  {
   "cell_type": "code",
   "execution_count": 5,
   "id": "233c2b1c-a840-409d-9d9b-b0367b669752",
   "metadata": {},
   "outputs": [],
   "source": [
    "def recommend(movie_title):\n",
    "    movie_index = recommendation_movie[recommendation_movie.title == movie_title].index[0]\n",
    "    cosine_similarity = sorted(list(enumerate(similarity[movie_index])), reverse=True, key=lambda model:model[1])\n",
    "    for i in cosine_similarity[1:6]:\n",
    "        print(recommendation_movie.iloc[i[0]].title)"
   ]
  },
  {
   "cell_type": "code",
   "execution_count": 6,
   "id": "fd2adca0-7e44-4af8-8c41-00fe401b691d",
   "metadata": {},
   "outputs": [],
   "source": [
    "import pickle\n",
    "pickle.dump(recommendation_movie,open(\"movies.pkl\",\"wb\"))\n",
    "pickle.dump(similarity, open(\"similarity.pkl\", \"wb\"))"
   ]
  },
  {
   "cell_type": "markdown",
   "id": "236561e4-12f2-45be-83f9-f6f1bca9de5c",
   "metadata": {
    "tags": []
   },
   "source": [
    "## tfidf"
   ]
  },
  {
   "cell_type": "code",
   "execution_count": 7,
   "id": "5ed17d8b-7f69-476a-abbb-f1c6c9309b81",
   "metadata": {},
   "outputs": [],
   "source": [
    "recommendation_movie[\"tags\"] = recommendation_movie[\"tags\"].fillna('')"
   ]
  },
  {
   "cell_type": "code",
   "execution_count": 8,
   "id": "22c61ae2-ad9b-48f8-85ef-e0640c79abb8",
   "metadata": {},
   "outputs": [],
   "source": [
    "from sklearn.feature_extraction.text import TfidfVectorizer\n",
    "tfidf = TfidfVectorizer(max_features=10000, stop_words='english')\n",
    "tfmodel = tfidf.fit(recommendation_movie['tags'])\n",
    "tag_vectors = tfidf.fit_transform(recommendation_movie['tags'])"
   ]
  },
  {
   "cell_type": "code",
   "execution_count": 9,
   "id": "f201314e-ab28-453b-902c-813fce15f733",
   "metadata": {},
   "outputs": [],
   "source": [
    "similarity_matrix = cosine_similarity(tag_vectors)"
   ]
  },
  {
   "cell_type": "code",
   "execution_count": 10,
   "id": "6145fe82-ad4a-48db-8cbd-b40fe0347e23",
   "metadata": {},
   "outputs": [],
   "source": [
    "def recommend_tfidf(movie_title):\n",
    "    movie_index = recommendation_movie[recommendation_movie.title == movie_title].index[0]\n",
    "    tfidf_cosine = sorted(list(enumerate(similarity[movie_index])), reverse=True, key=lambda x: x[1])\n",
    "    for i in tfidf_cosine[1:6]:\n",
    "        print(recommendation_movie.iloc[i[0]].title)\n",
    "    "
   ]
  },
  {
   "cell_type": "code",
   "execution_count": 11,
   "id": "91c566e5-4d55-407e-b218-1c41f42da44e",
   "metadata": {},
   "outputs": [],
   "source": [
    "import pickle\n",
    "pickle.dump(recommendation_movie,open(\"movies.pkl\",\"wb\"))\n",
    "pickle.dump(similarity, open(\"similarity.pkl\", \"wb\"))"
   ]
  }
 ],
 "metadata": {
  "kernelspec": {
   "display_name": "Python 3 (ipykernel)",
   "language": "python",
   "name": "python3"
  },
  "language_info": {
   "codemirror_mode": {
    "name": "ipython",
    "version": 3
   },
   "file_extension": ".py",
   "mimetype": "text/x-python",
   "name": "python",
   "nbconvert_exporter": "python",
   "pygments_lexer": "ipython3",
   "version": "3.9.6"
  }
 },
 "nbformat": 4,
 "nbformat_minor": 5
}
